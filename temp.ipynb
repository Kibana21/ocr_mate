{
 "cells": [
  {
   "cell_type": "code",
   "execution_count": 1,
   "id": "fe20cf9a",
   "metadata": {},
   "outputs": [],
   "source": [
    "import dspy\n",
    "from dotenv import load_dotenv\n",
    "import os\n",
    "load_dotenv()\n",
    "ap_key = os.getenv(\"OPENAI_API_KEY\")\n",
    "model = \"openai/gpt-4.1-nano\"\n"
   ]
  },
  {
   "cell_type": "code",
   "execution_count": 2,
   "id": "119e720c",
   "metadata": {},
   "outputs": [],
   "source": [
    "lm = dspy.LM(model=model, api_key=ap_key,cache=False)\n",
    "dspy.settings.configure(lm=lm, verbose=True,track_usage=True)"
   ]
  },
  {
   "cell_type": "code",
   "execution_count": 3,
   "id": "931a4627",
   "metadata": {},
   "outputs": [
    {
     "name": "stdout",
     "output_type": "stream",
     "text": [
      "Prediction(\n",
      "    summary='The reviewer had a great experience at the restaurant, praising the delicious food and excellent service, and recommending it to others.'\n",
      ")\n"
     ]
    }
   ],
   "source": [
    "review = \"\"\"I had a wonderful experience  at the restaurant. The food was delicious and the service was excellent. I would definitely recommend it to my friends and family.\"\"\"\n",
    "summarize = dspy.Predict(\"review -> summary\")\n",
    "result = summarize(review=review)\n",
    "print(result)"
   ]
  },
  {
   "cell_type": "code",
   "execution_count": null,
   "id": "9a85c9e0",
   "metadata": {},
   "outputs": [],
   "source": []
  }
 ],
 "metadata": {
  "kernelspec": {
   "display_name": ".venv",
   "language": "python",
   "name": "python3"
  },
  "language_info": {
   "codemirror_mode": {
    "name": "ipython",
    "version": 3
   },
   "file_extension": ".py",
   "mimetype": "text/x-python",
   "name": "python",
   "nbconvert_exporter": "python",
   "pygments_lexer": "ipython3",
   "version": "3.12.7"
  }
 },
 "nbformat": 4,
 "nbformat_minor": 5
}
